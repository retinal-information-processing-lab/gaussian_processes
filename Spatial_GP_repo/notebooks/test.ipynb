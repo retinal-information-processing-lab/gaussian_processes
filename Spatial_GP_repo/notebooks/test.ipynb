{
 "cells": [
  {
   "cell_type": "markdown",
   "metadata": {},
   "source": []
  },
  {
   "cell_type": "code",
   "execution_count": 22,
   "metadata": {},
   "outputs": [
    {
     "name": "stdout",
     "output_type": "stream",
     "text": [
      "tensor([[10, 20, 30],\n",
      "        [20, 40, 60]])\n",
      "tensor([[ 100,  400,  900],\n",
      "        [ 200,  800, 1800]])\n"
     ]
    },
    {
     "data": {
      "text/plain": [
       "tensor([359.1342])"
      ]
     },
     "execution_count": 22,
     "metadata": {},
     "output_type": "execute_result"
    }
   ],
   "source": [
    "import torch\n",
    "\n",
    "# Tensor of shape (r, nstar)\n",
    "\n",
    "rsigma2 = torch.outer(torch.tensor([1, 2,] ), torch.tensor([10, 20, 30]))\n",
    "print(rsigma2)\n",
    "\n",
    "\n",
    "# Vector of shape (nstar,)\n",
    "sigma2 = torch.tensor([10, 20, 30])   # Shape: (3,)\n",
    "\n",
    "# Multiply each column by the corresponding element in sigma2\n",
    "result = rsigma2 * sigma2\n",
    "\n",
    "print(result)\n",
    "\n",
    "\n",
    "torch.lgamma(torch.tensor([100]))\n",
    "\n",
    "\n"
   ]
  },
  {
   "cell_type": "code",
   "execution_count": 8,
   "metadata": {},
   "outputs": [
    {
     "data": {
      "text/plain": [
       "-0.6931471824645996"
      ]
     },
     "execution_count": 8,
     "metadata": {},
     "output_type": "execute_result"
    }
   ],
   "source": [
    "import torch\n",
    "import numpy as np\n",
    "import math\n",
    "\n",
    "beta = torch.tensor(0.5)\n",
    "torch.log(beta).item()"
   ]
  }
 ],
 "metadata": {
  "kernelspec": {
   "display_name": "pytorch",
   "language": "python",
   "name": "python3"
  },
  "language_info": {
   "codemirror_mode": {
    "name": "ipython",
    "version": 3
   },
   "file_extension": ".py",
   "mimetype": "text/x-python",
   "name": "python",
   "nbconvert_exporter": "python",
   "pygments_lexer": "ipython3",
   "version": "3.11.5"
  }
 },
 "nbformat": 4,
 "nbformat_minor": 2
}
