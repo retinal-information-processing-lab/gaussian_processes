{
 "cells": [
  {
   "cell_type": "markdown",
   "metadata": {},
   "source": [
    "Testing the correspondence with matlab code provided by matthew\n"
   ]
  },
  {
   "cell_type": "code",
   "execution_count": 1,
   "metadata": {},
   "outputs": [
    {
     "name": "stdout",
     "output_type": "stream",
     "text": [
      "Using device: cuda:0 (from utils.py)\n"
     ]
    }
   ],
   "source": [
    "import sys\n",
    "# sys.path.insert(0, '/home/idv-eqs8-pza/IDV_code/Variational_GP/spatial_GP')\n",
    "import time\n",
    "import random\n",
    "import csv\n",
    "import numpy as np\n",
    "\n",
    "import scipy.io\n",
    "from scipy.io import loadmat\n",
    "\n",
    "import torch\n",
    "import pickle\n",
    "\n",
    "from tqdm import tqdm\n",
    "from tqdm import notebook\n",
    "\n",
    "import matplotlib\n",
    "import matplotlib.pyplot as plt\n",
    "\n",
    "from utils import *\n",
    "\n",
    "TORCH_DTYPE = torch.float64 #NB: Basically all of the matrices in Spatial_GP have 1.e-7 added to the diagonal, to be changed if we want to use float64\n",
    "# Set the default dtype to float64\n",
    "torch.set_default_dtype(TORCH_DTYPE)\n",
    "\n"
   ]
  },
  {
   "cell_type": "markdown",
   "metadata": {},
   "source": [
    "f_params update, inside the Estep"
   ]
  },
  {
   "cell_type": "code",
   "execution_count": 2,
   "metadata": {},
   "outputs": [
    {
     "ename": "SyntaxError",
     "evalue": "'(' was never closed (2437108125.py, line 31)",
     "output_type": "error",
     "traceback": [
      "\u001b[0;36m  Cell \u001b[0;32mIn[2], line 31\u001b[0;36m\u001b[0m\n\u001b[0;31m    C = torch.ones(2*n,\u001b[0m\n\u001b[0m                  ^\u001b[0m\n\u001b[0;31mSyntaxError\u001b[0m\u001b[0;31m:\u001b[0m '(' was never closed\n"
     ]
    }
   ],
   "source": [
    "# function is \" compute_likelihood \" in my compute_likelihood\n",
    "# to use with compute_grad True\n",
    "\n",
    "def generate_non_singular_positive_definite_matrix(size):\n",
    "    # Generate a random matrix\n",
    "    # A = torch.randn(size, size)\n",
    "    A = torch.ones(size, size)\n",
    "    # Create a symmetric matrix by multiplying A with its transpose\n",
    "    symmetric_matrix = A @ A.T\n",
    "    # Add a large scaled identity matrix to ensure positive definiteness and non-singularity\n",
    "    positive_definite_matrix = symmetric_matrix + size * torch.eye(size)\n",
    "    \n",
    "    return positive_definite_matrix\n",
    "\n",
    "n = 3160\n",
    "ntilde = 50\n",
    "r = torch.ones(n)\n",
    "f_mean = r\n",
    "# lambda_m = r\n",
    "# lambda_var = r\n",
    "\n",
    "# f_params = {'A': torch.tensor(0.0017), 'lambda0': torch.tensor(0.3697)}\n",
    "# f_params = {'A': torch.tensor(0.0017), 'lambda0': torch.tensor(0.3697)}\n",
    "\n",
    "# We need lambda_m and lambda_var\n",
    "\n",
    "K_tilde = generate_non_singular_positive_definite_matrix(ntilde)\n",
    "K = generate_non_singular_positive_definite_matrix(n)\n",
    "KKtilde_inv = K @ K_tilde.inverse()\n",
    "Kvec = torch.ones(n)\n",
    "C = torch.ones(2*n, \n",
    "x=1\n",
    "C=1\n",
    "lambda_m, lambda_var = lambda_moments( x, K_tilde, KKtilde_inv, Kvec, C, m, V, theta, kernfun=kernfun)\n",
    "\n",
    "\n",
    "lLKH, dLKH = compute_loglikelihood( r,  f_mean, lambda_m, lambda_var, f_params, compute_grad_for_f_params=True )\n",
    "\n",
    "lLKH\n",
    "\n"
   ]
  }
 ],
 "metadata": {
  "kernelspec": {
   "display_name": "pytorch",
   "language": "python",
   "name": "python3"
  },
  "language_info": {
   "codemirror_mode": {
    "name": "ipython",
    "version": 3
   },
   "file_extension": ".py",
   "mimetype": "text/x-python",
   "name": "python",
   "nbconvert_exporter": "python",
   "pygments_lexer": "ipython3",
   "version": "3.11.5"
  }
 },
 "nbformat": 4,
 "nbformat_minor": 2
}
